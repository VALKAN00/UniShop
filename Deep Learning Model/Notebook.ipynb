{
  "cells": [
    {
      "cell_type": "code",
      "execution_count": 36,
      "metadata": {
        "id": "smNO8z2lTO-1"
      },
      "outputs": [],
      "source": [
        "import pandas as pd\n",
        "import numpy as np\n",
        "from sklearn.model_selection import train_test_split\n",
        "from sklearn.pipeline import Pipeline\n",
        "from sklearn.compose import ColumnTransformer\n",
        "from sklearn.preprocessing import StandardScaler, OneHotEncoder\n",
        "from sklearn.impute import SimpleImputer\n",
        "from sklearn.decomposition import PCA\n",
        "import joblib\n",
        "import tensorflow as tf"
      ]
    },
    {
      "cell_type": "code",
      "execution_count": 37,
      "metadata": {
        "id": "V1F18cZ3Tfph"
      },
      "outputs": [],
      "source": [
        "# Load your data\n",
        "df = pd.read_csv(\"data.csv\")"
      ]
    },
    {
      "cell_type": "code",
      "execution_count": 38,
      "metadata": {
        "colab": {
          "base_uri": "https://localhost:8080/"
        },
        "id": "W48GL-8YY9IS",
        "outputId": "c0d9be25-7cfd-4e40-b641-2979f11d529b"
      },
      "outputs": [
        {
          "name": "stdout",
          "output_type": "stream",
          "text": [
            "<class 'pandas.core.frame.DataFrame'>\n",
            "RangeIndex: 10000 entries, 0 to 9999\n",
            "Data columns (total 19 columns):\n",
            " #   Column                  Non-Null Count  Dtype  \n",
            "---  ------                  --------------  -----  \n",
            " 0   product                 10000 non-null  object \n",
            " 1   price                   10000 non-null  float64\n",
            " 2   college                 10000 non-null  object \n",
            " 3   Sub Category            10000 non-null  object \n",
            " 4   rating                  10000 non-null  float64\n",
            " 5   stock                   10000 non-null  int64  \n",
            " 6   is_out_of_stock         10000 non-null  int64  \n",
            " 7   views_count             10000 non-null  int64  \n",
            " 8   wishlist_count          10000 non-null  int64  \n",
            " 9   add_to_cart_count       10000 non-null  int64  \n",
            " 10  buyers_count            10000 non-null  int64  \n",
            " 11  discount_pct            10000 non-null  float64\n",
            " 12  final_price             10000 non-null  float64\n",
            " 13  price_range_category    10000 non-null  object \n",
            " 14  stock_range             10000 non-null  object \n",
            " 15  seasonality             10000 non-null  object \n",
            " 16  effective_price         10000 non-null  float64\n",
            " 17  cart_to_view_ratio      10000 non-null  float64\n",
            " 18  wishlist_to_view_ratio  10000 non-null  float64\n",
            "dtypes: float64(7), int64(6), object(6)\n",
            "memory usage: 1.4+ MB\n"
          ]
        }
      ],
      "source": [
        "df.info()"
      ]
    },
    {
      "cell_type": "code",
      "execution_count": 39,
      "metadata": {
        "id": "8FB91XEhThr3"
      },
      "outputs": [],
      "source": [
        "# Drop 'product' column as requested\n",
        "df = df.drop('product', axis=1)\n",
        "\n",
        "# Import LabelEncoder\n",
        "from sklearn.preprocessing import LabelEncoder\n",
        "\n",
        "# Label encode target ('price_range_category')\n",
        "label_encoder = LabelEncoder()\n",
        "df['price_range_category'] = label_encoder.fit_transform(df['price_range_category'])\n",
        "\n",
        "# Separate features and target\n",
        "X = df.drop('price_range_category', axis=1)\n",
        "y = df['price_range_category']"
      ]
    },
    {
      "cell_type": "code",
      "execution_count": 46,
      "metadata": {
        "colab": {
          "base_uri": "https://localhost:8080/"
        },
        "id": "UTGBJvPgbqcw",
        "outputId": "d2e0eabe-9b55-467b-ba2f-d4cf9b8bda52"
      },
      "outputs": [
        {
          "data": {
            "text/plain": [
              "['label_encoder.joblib']"
            ]
          },
          "execution_count": 46,
          "metadata": {},
          "output_type": "execute_result"
        }
      ],
      "source": [
        "joblib.dump(label_encoder, \"label_encoder.joblib\")"
      ]
    },
    {
      "cell_type": "code",
      "execution_count": 40,
      "metadata": {
        "colab": {
          "base_uri": "https://localhost:8080/"
        },
        "id": "mScfhuq1cX9g",
        "outputId": "e1e6d85d-1db2-4d06-977e-6d2713e68b7e"
      },
      "outputs": [
        {
          "name": "stdout",
          "output_type": "stream",
          "text": [
            "<class 'pandas.core.frame.DataFrame'>\n",
            "RangeIndex: 10000 entries, 0 to 9999\n",
            "Data columns (total 17 columns):\n",
            " #   Column                  Non-Null Count  Dtype  \n",
            "---  ------                  --------------  -----  \n",
            " 0   price                   10000 non-null  float64\n",
            " 1   college                 10000 non-null  object \n",
            " 2   Sub Category            10000 non-null  object \n",
            " 3   rating                  10000 non-null  float64\n",
            " 4   stock                   10000 non-null  int64  \n",
            " 5   is_out_of_stock         10000 non-null  int64  \n",
            " 6   views_count             10000 non-null  int64  \n",
            " 7   wishlist_count          10000 non-null  int64  \n",
            " 8   add_to_cart_count       10000 non-null  int64  \n",
            " 9   buyers_count            10000 non-null  int64  \n",
            " 10  discount_pct            10000 non-null  float64\n",
            " 11  final_price             10000 non-null  float64\n",
            " 12  stock_range             10000 non-null  object \n",
            " 13  seasonality             10000 non-null  object \n",
            " 14  effective_price         10000 non-null  float64\n",
            " 15  cart_to_view_ratio      10000 non-null  float64\n",
            " 16  wishlist_to_view_ratio  10000 non-null  float64\n",
            "dtypes: float64(7), int64(6), object(4)\n",
            "memory usage: 1.3+ MB\n"
          ]
        }
      ],
      "source": [
        "X.info()"
      ]
    },
    {
      "cell_type": "code",
      "execution_count": 41,
      "metadata": {
        "id": "eg5thKOiU4Ag"
      },
      "outputs": [],
      "source": [
        "# Split data\n",
        "X_train, X_test, y_train, y_test = train_test_split(\n",
        "    X, y, test_size=0.2, random_state=42, stratify=y\n",
        ")"
      ]
    },
    {
      "cell_type": "code",
      "execution_count": 42,
      "metadata": {
        "id": "RDF8ZPuZTsb3"
      },
      "outputs": [],
      "source": [
        "# Identify categorical and numerical columns\n",
        "categorical_cols = X.select_dtypes(include=['object']).columns.tolist()\n",
        "numerical_cols = X.select_dtypes(include=['int64', 'float64']).columns.tolist()\n",
        "\n",
        "# Preprocessing pipeline\n",
        "preprocessor = ColumnTransformer(transformers=[\n",
        "    ('num', Pipeline([\n",
        "        ('imputer', SimpleImputer(strategy='median')),\n",
        "        ('scaler', StandardScaler())\n",
        "    ]), numerical_cols),\n",
        "\n",
        "    ('cat', Pipeline([\n",
        "        ('imputer', SimpleImputer(strategy='most_frequent')),\n",
        "        ('encoder', OneHotEncoder(handle_unknown='ignore', sparse_output=False))\n",
        "    ]), categorical_cols)\n",
        "])\n",
        "\n",
        "# Full pipeline with PCA\n",
        "pipeline = Pipeline([\n",
        "    ('preprocessing', preprocessor),\n",
        "    ('pca', PCA(n_components=10))\n",
        "])\n",
        "\n",
        "X_train_processed = pipeline.fit_transform(X_train)\n",
        "X_test_processed = pipeline.transform(X_test)"
      ]
    },
    {
      "cell_type": "code",
      "execution_count": 43,
      "metadata": {
        "colab": {
          "base_uri": "https://localhost:8080/"
        },
        "id": "gJuHrX4ZW5oI",
        "outputId": "adf729d5-dce8-4a0f-a3ea-8e66f7285754"
      },
      "outputs": [
        {
          "data": {
            "text/plain": [
              "(8000, 10)"
            ]
          },
          "execution_count": 43,
          "metadata": {},
          "output_type": "execute_result"
        }
      ],
      "source": [
        "X_train_processed.shape"
      ]
    },
    {
      "cell_type": "code",
      "execution_count": 45,
      "metadata": {
        "colab": {
          "base_uri": "https://localhost:8080/"
        },
        "id": "pvPB5rbuUJdn",
        "outputId": "4640fee4-e301-4fe6-b652-ace5e58c4adc"
      },
      "outputs": [
        {
          "data": {
            "text/plain": [
              "['full_pipeline.joblib']"
            ]
          },
          "execution_count": 45,
          "metadata": {},
          "output_type": "execute_result"
        }
      ],
      "source": [
        "joblib.dump(pipeline, \"full_pipeline.joblib\")"
      ]
    },
    {
      "cell_type": "code",
      "execution_count": null,
      "metadata": {
        "colab": {
          "base_uri": "https://localhost:8080/"
        },
        "id": "kaHrHsIRVT2h",
        "outputId": "7c4e33bb-7dd9-47b5-ac66-d3f6f9fdedfa"
      },
      "outputs": [
        {
          "name": "stdout",
          "output_type": "stream",
          "text": [
            "Epoch 1/30\n",
            "\u001b[1m200/200\u001b[0m \u001b[32m━━━━━━━━━━━━━━━━━━━━\u001b[0m\u001b[37m\u001b[0m \u001b[1m9s\u001b[0m 20ms/step - accuracy: 0.3492 - loss: 1.5333 - val_accuracy: 0.5138 - val_loss: 1.0379 - learning_rate: 0.0010\n",
            "Epoch 2/30\n",
            "\u001b[1m200/200\u001b[0m \u001b[32m━━━━━━━━━━━━━━━━━━━━\u001b[0m\u001b[37m\u001b[0m \u001b[1m1s\u001b[0m 6ms/step - accuracy: 0.5224 - loss: 1.0142 - val_accuracy: 0.6650 - val_loss: 0.7557 - learning_rate: 0.0010\n",
            "Epoch 3/30\n",
            "\u001b[1m200/200\u001b[0m \u001b[32m━━━━━━━━━━━━━━━━━━━━\u001b[0m\u001b[37m\u001b[0m \u001b[1m1s\u001b[0m 3ms/step - accuracy: 0.6567 - loss: 0.7174 - val_accuracy: 0.8156 - val_loss: 0.4623 - learning_rate: 0.0010\n",
            "Epoch 4/30\n",
            "\u001b[1m200/200\u001b[0m \u001b[32m━━━━━━━━━━━━━━━━━━━━\u001b[0m\u001b[37m\u001b[0m \u001b[1m1s\u001b[0m 4ms/step - accuracy: 0.7861 - loss: 0.4677 - val_accuracy: 0.9050 - val_loss: 0.2956 - learning_rate: 0.0010\n",
            "Epoch 5/30\n",
            "\u001b[1m200/200\u001b[0m \u001b[32m━━━━━━━━━━━━━━━━━━━━\u001b[0m\u001b[37m\u001b[0m \u001b[1m1s\u001b[0m 4ms/step - accuracy: 0.8383 - loss: 0.3691 - val_accuracy: 0.9075 - val_loss: 0.2367 - learning_rate: 0.0010\n",
            "Epoch 6/30\n",
            "\u001b[1m200/200\u001b[0m \u001b[32m━━━━━━━━━━━━━━━━━━━━\u001b[0m\u001b[37m\u001b[0m \u001b[1m1s\u001b[0m 4ms/step - accuracy: 0.8492 - loss: 0.3454 - val_accuracy: 0.9181 - val_loss: 0.2220 - learning_rate: 0.0010\n",
            "Epoch 7/30\n",
            "\u001b[1m200/200\u001b[0m \u001b[32m━━━━━━━━━━━━━━━━━━━━\u001b[0m\u001b[37m\u001b[0m \u001b[1m1s\u001b[0m 4ms/step - accuracy: 0.8590 - loss: 0.3341 - val_accuracy: 0.9212 - val_loss: 0.2302 - learning_rate: 0.0010\n",
            "Epoch 8/30\n",
            "\u001b[1m200/200\u001b[0m \u001b[32m━━━━━━━━━━━━━━━━━━━━\u001b[0m\u001b[37m\u001b[0m \u001b[1m1s\u001b[0m 4ms/step - accuracy: 0.8673 - loss: 0.3223 - val_accuracy: 0.8944 - val_loss: 0.2247 - learning_rate: 0.0010\n",
            "Epoch 9/30\n",
            "\u001b[1m200/200\u001b[0m \u001b[32m━━━━━━━━━━━━━━━━━━━━\u001b[0m\u001b[37m\u001b[0m \u001b[1m1s\u001b[0m 4ms/step - accuracy: 0.8596 - loss: 0.3321 - val_accuracy: 0.9194 - val_loss: 0.2082 - learning_rate: 0.0010\n",
            "Epoch 10/30\n",
            "\u001b[1m200/200\u001b[0m \u001b[32m━━━━━━━━━━━━━━━━━━━━\u001b[0m\u001b[37m\u001b[0m \u001b[1m2s\u001b[0m 6ms/step - accuracy: 0.8788 - loss: 0.2979 - val_accuracy: 0.9225 - val_loss: 0.1965 - learning_rate: 0.0010\n",
            "Epoch 11/30\n",
            "\u001b[1m200/200\u001b[0m \u001b[32m━━━━━━━━━━━━━━━━━━━━\u001b[0m\u001b[37m\u001b[0m \u001b[1m1s\u001b[0m 6ms/step - accuracy: 0.8744 - loss: 0.3038 - val_accuracy: 0.9125 - val_loss: 0.2099 - learning_rate: 0.0010\n",
            "Epoch 12/30\n",
            "\u001b[1m200/200\u001b[0m \u001b[32m━━━━━━━━━━━━━━━━━━━━\u001b[0m\u001b[37m\u001b[0m \u001b[1m1s\u001b[0m 4ms/step - accuracy: 0.8820 - loss: 0.2797 - val_accuracy: 0.9300 - val_loss: 0.1925 - learning_rate: 0.0010\n",
            "Epoch 13/30\n",
            "\u001b[1m200/200\u001b[0m \u001b[32m━━━━━━━━━━━━━━━━━━━━\u001b[0m\u001b[37m\u001b[0m \u001b[1m1s\u001b[0m 4ms/step - accuracy: 0.8832 - loss: 0.2900 - val_accuracy: 0.9206 - val_loss: 0.1941 - learning_rate: 0.0010\n",
            "Epoch 14/30\n",
            "\u001b[1m200/200\u001b[0m \u001b[32m━━━━━━━━━━━━━━━━━━━━\u001b[0m\u001b[37m\u001b[0m \u001b[1m1s\u001b[0m 4ms/step - accuracy: 0.8853 - loss: 0.2948 - val_accuracy: 0.9244 - val_loss: 0.1944 - learning_rate: 0.0010\n",
            "Epoch 15/30\n",
            "\u001b[1m187/200\u001b[0m \u001b[32m━━━━━━━━━━━━━━━━━━\u001b[0m\u001b[37m━━\u001b[0m \u001b[1m0s\u001b[0m 3ms/step - accuracy: 0.8814 - loss: 0.2798\n",
            "Epoch 15: ReduceLROnPlateau reducing learning rate to 0.0005000000237487257.\n",
            "\u001b[1m200/200\u001b[0m \u001b[32m━━━━━━━━━━━━━━━━━━━━\u001b[0m\u001b[37m\u001b[0m \u001b[1m1s\u001b[0m 4ms/step - accuracy: 0.8816 - loss: 0.2801 - val_accuracy: 0.9275 - val_loss: 0.1947 - learning_rate: 0.0010\n",
            "Epoch 16/30\n",
            "\u001b[1m200/200\u001b[0m \u001b[32m━━━━━━━━━━━━━━━━━━━━\u001b[0m\u001b[37m\u001b[0m \u001b[1m1s\u001b[0m 4ms/step - accuracy: 0.8874 - loss: 0.2908 - val_accuracy: 0.9406 - val_loss: 0.1817 - learning_rate: 5.0000e-04\n",
            "Epoch 17/30\n",
            "\u001b[1m200/200\u001b[0m \u001b[32m━━━━━━━━━━━━━━━━━━━━\u001b[0m\u001b[37m\u001b[0m \u001b[1m2s\u001b[0m 5ms/step - accuracy: 0.8970 - loss: 0.2746 - val_accuracy: 0.9294 - val_loss: 0.1811 - learning_rate: 5.0000e-04\n",
            "Epoch 18/30\n",
            "\u001b[1m200/200\u001b[0m \u001b[32m━━━━━━━━━━━━━━━━━━━━\u001b[0m\u001b[37m\u001b[0m \u001b[1m1s\u001b[0m 4ms/step - accuracy: 0.8965 - loss: 0.2587 - val_accuracy: 0.9375 - val_loss: 0.1782 - learning_rate: 5.0000e-04\n",
            "Epoch 19/30\n",
            "\u001b[1m200/200\u001b[0m \u001b[32m━━━━━━━━━━━━━━━━━━━━\u001b[0m\u001b[37m\u001b[0m \u001b[1m1s\u001b[0m 4ms/step - accuracy: 0.8935 - loss: 0.2534 - val_accuracy: 0.9406 - val_loss: 0.1760 - learning_rate: 5.0000e-04\n",
            "Epoch 20/30\n",
            "\u001b[1m200/200\u001b[0m \u001b[32m━━━━━━━━━━━━━━━━━━━━\u001b[0m\u001b[37m\u001b[0m \u001b[1m1s\u001b[0m 4ms/step - accuracy: 0.8853 - loss: 0.2733 - val_accuracy: 0.9362 - val_loss: 0.1804 - learning_rate: 5.0000e-04\n",
            "Epoch 21/30\n",
            "\u001b[1m200/200\u001b[0m \u001b[32m━━━━━━━━━━━━━━━━━━━━\u001b[0m\u001b[37m\u001b[0m \u001b[1m2s\u001b[0m 6ms/step - accuracy: 0.8974 - loss: 0.2572 - val_accuracy: 0.9269 - val_loss: 0.1781 - learning_rate: 5.0000e-04\n",
            "Epoch 22/30\n",
            "\u001b[1m192/200\u001b[0m \u001b[32m━━━━━━━━━━━━━━━━━━━\u001b[0m\u001b[37m━\u001b[0m \u001b[1m0s\u001b[0m 4ms/step - accuracy: 0.8963 - loss: 0.2527\n",
            "Epoch 22: ReduceLROnPlateau reducing learning rate to 0.0002500000118743628.\n",
            "\u001b[1m200/200\u001b[0m \u001b[32m━━━━━━━━━━━━━━━━━━━━\u001b[0m\u001b[37m\u001b[0m \u001b[1m1s\u001b[0m 5ms/step - accuracy: 0.8966 - loss: 0.2525 - val_accuracy: 0.9444 - val_loss: 0.1781 - learning_rate: 5.0000e-04\n",
            "Epoch 23/30\n",
            "\u001b[1m200/200\u001b[0m \u001b[32m━━━━━━━━━━━━━━━━━━━━\u001b[0m\u001b[37m\u001b[0m \u001b[1m1s\u001b[0m 4ms/step - accuracy: 0.8991 - loss: 0.2412 - val_accuracy: 0.9450 - val_loss: 0.1680 - learning_rate: 2.5000e-04\n",
            "Epoch 24/30\n",
            "\u001b[1m200/200\u001b[0m \u001b[32m━━━━━━━━━━━━━━━━━━━━\u001b[0m\u001b[37m\u001b[0m \u001b[1m1s\u001b[0m 4ms/step - accuracy: 0.9037 - loss: 0.2487 - val_accuracy: 0.9381 - val_loss: 0.1683 - learning_rate: 2.5000e-04\n",
            "Epoch 25/30\n",
            "\u001b[1m200/200\u001b[0m \u001b[32m━━━━━━━━━━━━━━━━━━━━\u001b[0m\u001b[37m\u001b[0m \u001b[1m1s\u001b[0m 4ms/step - accuracy: 0.9007 - loss: 0.2470 - val_accuracy: 0.9469 - val_loss: 0.1711 - learning_rate: 2.5000e-04\n",
            "Epoch 26/30\n",
            "\u001b[1m200/200\u001b[0m \u001b[32m━━━━━━━━━━━━━━━━━━━━\u001b[0m\u001b[37m\u001b[0m \u001b[1m1s\u001b[0m 4ms/step - accuracy: 0.9049 - loss: 0.2372 - val_accuracy: 0.9413 - val_loss: 0.1645 - learning_rate: 2.5000e-04\n",
            "Epoch 27/30\n",
            "\u001b[1m200/200\u001b[0m \u001b[32m━━━━━━━━━━━━━━━━━━━━\u001b[0m\u001b[37m\u001b[0m \u001b[1m1s\u001b[0m 4ms/step - accuracy: 0.9043 - loss: 0.2393 - val_accuracy: 0.9413 - val_loss: 0.1654 - learning_rate: 2.5000e-04\n",
            "Epoch 28/30\n",
            "\u001b[1m200/200\u001b[0m \u001b[32m━━━━━━━━━━━━━━━━━━━━\u001b[0m\u001b[37m\u001b[0m \u001b[1m1s\u001b[0m 4ms/step - accuracy: 0.8976 - loss: 0.2560 - val_accuracy: 0.9413 - val_loss: 0.1686 - learning_rate: 2.5000e-04\n",
            "Epoch 29/30\n",
            "\u001b[1m198/200\u001b[0m \u001b[32m━━━━━━━━━━━━━━━━━━━\u001b[0m\u001b[37m━\u001b[0m \u001b[1m0s\u001b[0m 3ms/step - accuracy: 0.8982 - loss: 0.2460\n",
            "Epoch 29: ReduceLROnPlateau reducing learning rate to 0.0001250000059371814.\n",
            "\u001b[1m200/200\u001b[0m \u001b[32m━━━━━━━━━━━━━━━━━━━━\u001b[0m\u001b[37m\u001b[0m \u001b[1m1s\u001b[0m 4ms/step - accuracy: 0.8983 - loss: 0.2457 - val_accuracy: 0.9475 - val_loss: 0.1651 - learning_rate: 2.5000e-04\n",
            "Epoch 30/30\n",
            "\u001b[1m200/200\u001b[0m \u001b[32m━━━━━━━━━━━━━━━━━━━━\u001b[0m\u001b[37m\u001b[0m \u001b[1m1s\u001b[0m 4ms/step - accuracy: 0.9083 - loss: 0.2325 - val_accuracy: 0.9463 - val_loss: 0.1619 - learning_rate: 1.2500e-04\n",
            "\u001b[1m63/63\u001b[0m \u001b[32m━━━━━━━━━━━━━━━━━━━━\u001b[0m\u001b[37m\u001b[0m \u001b[1m0s\u001b[0m 2ms/step - accuracy: 0.9524 - loss: 0.1295\n",
            "\n",
            "Test Loss: 0.14307376742362976\n",
            "Test Accuracy: 0.9484999775886536\n",
            "\u001b[1m63/63\u001b[0m \u001b[32m━━━━━━━━━━━━━━━━━━━━\u001b[0m\u001b[37m\u001b[0m \u001b[1m0s\u001b[0m 3ms/step\n",
            "\n",
            "Classification Report:\n",
            "              precision    recall  f1-score   support\n",
            "\n",
            "        High       0.98      0.97      0.97       651\n",
            "         Low       0.95      0.95      0.95       670\n",
            "      Medium       0.92      0.93      0.92       679\n",
            "\n",
            "    accuracy                           0.95      2000\n",
            "   macro avg       0.95      0.95      0.95      2000\n",
            "weighted avg       0.95      0.95      0.95      2000\n",
            "\n"
          ]
        }
      ],
      "source": [
        "from tensorflow import keras\n",
        "from tensorflow.keras import layers\n",
        "from sklearn.metrics import classification_report\n",
        "\n",
        "# Define the model\n",
        "model = keras.Sequential([\n",
        "    layers.Input(shape=(X_train_processed.shape[1],)),  # Better way than input_shape in Dense\n",
        "    layers.Dense(128, activation='relu'),\n",
        "    layers.BatchNormalization(),\n",
        "    layers.Dropout(0.3),\n",
        "\n",
        "    layers.Dense(64, activation='relu'),\n",
        "    layers.BatchNormalization(),\n",
        "    layers.Dropout(0.3),\n",
        "\n",
        "    layers.Dense(32, activation='relu'),\n",
        "    layers.BatchNormalization(),\n",
        "\n",
        "    layers.Dense(4, activation='softmax')  # Output layer: 4 classes\n",
        "])\n",
        "\n",
        "# Compile the model \n",
        "optimizer = keras.optimizers.Adam(learning_rate=0.001)  # alpha value for Adam optimizer , learning rate    \n",
        "\n",
        "model.compile(\n",
        "    optimizer=optimizer,\n",
        "    loss='sparse_categorical_crossentropy',\n",
        "    metrics=['accuracy']\n",
        ")\n",
        "\n",
        "# Define Learning Rate Scheduler\n",
        "lr_scheduler = keras.callbacks.ReduceLROnPlateau(\n",
        "    monitor='val_loss',\n",
        "    factor=0.5,\n",
        "    patience=3,\n",
        "    verbose=1\n",
        ")\n",
        "\n",
        "# Train the model\n",
        "history = model.fit(\n",
        "    X_train_processed, y_train,\n",
        "    epochs=30,  # increased epochs for better convergence\n",
        "    batch_size=32,\n",
        "    validation_split=0.2,\n",
        "    callbacks=[lr_scheduler],\n",
        "    verbose=1\n",
        ")\n",
        "\n",
        "# Evaluate the model\n",
        "loss, accuracy = model.evaluate(X_test_processed, y_test, verbose=1)\n",
        "print(f\"\\nTest Loss: {loss}\")\n",
        "print(f\"Test Accuracy: {accuracy}\")\n",
        "\n",
        "# Predictions\n",
        "y_pred_prob = model.predict(X_test_processed)\n",
        "y_pred = np.argmax(y_pred_prob, axis=1)\n",
        "\n",
        "# Classification Report\n",
        "print(\"\\nClassification Report:\")\n",
        "print(classification_report(y_test, y_pred, target_names=label_encoder.classes_))"
      ]
    },
    {
      "cell_type": "code",
      "execution_count": 19,
      "metadata": {
        "colab": {
          "base_uri": "https://localhost:8080/",
          "height": 487
        },
        "id": "DvtMZsplVl7n",
        "outputId": "2370b933-0bd4-4ae0-9b21-0ba441524f33"
      },
      "outputs": [
        {
          "data": {
            "image/png": "[encoded data removed]",
            "text/plain": [
              "<Figure size 640x480 with 2 Axes>"
            ]
          },
          "metadata": {},
          "output_type": "display_data"
        }
      ],
      "source": [
        "import matplotlib.pyplot as plt\n",
        "\n",
        "# Plot training history\n",
        "# Accuracy plot\n",
        "plt.subplot(1, 2, 1)\n",
        "plt.plot(history.history['accuracy'], label='Train Accuracy')\n",
        "plt.plot(history.history['val_accuracy'], label='Validation Accuracy')\n",
        "plt.title('Model Accuracy Over Epochs')\n",
        "plt.xlabel('Epoch')\n",
        "plt.ylabel('Accuracy')\n",
        "plt.legend(loc='lower right')\n",
        "plt.grid(True)\n",
        "\n",
        "# Loss plot\n",
        "plt.subplot(1, 2, 2)\n",
        "plt.plot(history.history['loss'], label='Train Loss')\n",
        "plt.plot(history.history['val_loss'], label='Validation Loss')\n",
        "plt.title('Model Loss Over Epochs')\n",
        "plt.xlabel('Epoch')\n",
        "plt.ylabel('Loss')\n",
        "plt.legend(loc='upper right')\n",
        "plt.grid(True)\n",
        "\n",
        "plt.tight_layout()\n",
        "plt.show()"
      ]
    },
    {
      "cell_type": "code",
      "execution_count": 20,
      "metadata": {
        "id": "WaYMRLtqVn4v"
      },
      "outputs": [],
      "source": [
        "# Save model\n",
        "model.save(\"deep_learning_model.keras\")"
      ]
    },
    {
      "cell_type": "code",
      "execution_count": 21,
      "metadata": {
        "colab": {
          "base_uri": "https://localhost:8080/"
        },
        "id": "io4OKFBgczPX",
        "outputId": "f74e0776-aa5f-43d5-c9c8-f87166459aab"
      },
      "outputs": [
        {
          "name": "stdout",
          "output_type": "stream",
          "text": [
            "\u001b[1m1/1\u001b[0m \u001b[32m━━━━━━━━━━━━━━━━━━━━\u001b[0m\u001b[37m\u001b[0m \u001b[1m0s\u001b[0m 36ms/step\n",
            "Predicted price_range_category: Low\n"
          ]
        }
      ],
      "source": [
        "example_low = {\n",
        "    'price':                  100.00,\n",
        "    'college':                'Arts;Architecture;Engineering',  # replace with one from your train set\n",
        "    'Sub Category':           'Design',\n",
        "    'rating':                 1.8,\n",
        "    'stock':                  20,\n",
        "    'is_out_of_stock':        0,\n",
        "    'views_count':            50,\n",
        "    'wishlist_count':         2,\n",
        "    'add_to_cart_count':      1,\n",
        "    'buyers_count':           0,\n",
        "    'discount_pct':           0.02,\n",
        "    'final_price':            4.90,\n",
        "    'stock_range':            'high',\n",
        "    'seasonality':            'spring',\n",
        "    'effective_price':        4.80,\n",
        "    'cart_to_view_ratio':     0.02,\n",
        "    'wishlist_to_view_ratio': 0.04\n",
        "}\n",
        "example_df = pd.DataFrame([example_low])\n",
        "\n",
        "# 3) Preprocess → predict\n",
        "X_ex_processed = pipeline.transform(example_df)\n",
        "probs          = model.predict(X_ex_processed)\n",
        "pred_num       = np.argmax(probs, axis=1)\n",
        "pred_label     = label_encoder.inverse_transform(pred_num)\n",
        "\n",
        "print(\"Predicted price_range_category:\", pred_label[0])"
      ]
    },
    {
      "cell_type": "code",
      "execution_count": 22,
      "metadata": {
        "colab": {
          "base_uri": "https://localhost:8080/"
        },
        "id": "BvIfkGp0dCcP",
        "outputId": "df06e090-6195-4264-8f91-c8ab43e60879"
      },
      "outputs": [
        {
          "name": "stdout",
          "output_type": "stream",
          "text": [
            "\u001b[1m1/1\u001b[0m \u001b[32m━━━━━━━━━━━━━━━━━━━━\u001b[0m\u001b[37m\u001b[0m \u001b[1m0s\u001b[0m 39ms/step\n",
            "  predicted_price_range\n",
            "0                   Low\n",
            "1                  High\n",
            "2                   Low\n"
          ]
        }
      ],
      "source": [
        "# 2) Define multiple examples in a list\n",
        "examples = [\n",
        "    {\n",
        "        'price':                  5.00,\n",
        "        'college':                'Arts;Architecture;Engineering',\n",
        "        'Sub Category':           'Design',\n",
        "        'rating':                 1.8,\n",
        "        'stock':                  20,\n",
        "        'is_out_of_stock':        0,\n",
        "        'views_count':            50,\n",
        "        'wishlist_count':         2,\n",
        "        'add_to_cart_count':      1,\n",
        "        'buyers_count':           0,\n",
        "        'discount_pct':           0.02,\n",
        "        'final_price':            4.90,\n",
        "        'stock_range':            'low',\n",
        "        'seasonality':            'spring',\n",
        "        'effective_price':        4.80,\n",
        "        'cart_to_view_ratio':     0.02,\n",
        "        'wishlist_to_view_ratio': 0.04\n",
        "    },\n",
        "    {\n",
        "        'price':                  199.99,\n",
        "        'college':                'Engineering',\n",
        "        'Sub Category':           'Mechanical',\n",
        "        'rating':                 4.2,\n",
        "        'stock':                  150,\n",
        "        'is_out_of_stock':        0,\n",
        "        'views_count':            500,\n",
        "        'wishlist_count':        45,\n",
        "        'add_to_cart_count':     30,\n",
        "        'buyers_count':          5,\n",
        "        'discount_pct':          0.15,\n",
        "        'final_price':           169.99,\n",
        "        'stock_range':           'medium',\n",
        "        'seasonality':           'winter',\n",
        "        'effective_price':       155.0,\n",
        "        'cart_to_view_ratio':    0.06,\n",
        "        'wishlist_to_view_ratio':0.09\n",
        "    },\n",
        "    {\n",
        "        'price':                  59.50,\n",
        "        'college':                'Arts;Architecture;Engineering',\n",
        "        'Sub Category':           'Design',\n",
        "        'rating':                 3.8,\n",
        "        'stock':                  80,\n",
        "        'is_out_of_stock':        0,\n",
        "        'views_count':            1200,\n",
        "        'wishlist_count':         150,\n",
        "        'add_to_cart_count':      60,\n",
        "        'buyers_count':           20,\n",
        "        'discount_pct':           0.25,\n",
        "        'final_price':            44.63,\n",
        "        'stock_range':            'low',\n",
        "        'seasonality':            'summer',\n",
        "        'effective_price':        42.17,\n",
        "        'cart_to_view_ratio':     0.05,\n",
        "        'wishlist_to_view_ratio': 0.12\n",
        "    }\n",
        "]\n",
        "\n",
        "# 3) Turn into a DataFrame\n",
        "batch_df = pd.DataFrame(examples)\n",
        "\n",
        "# 4) Preprocess & predict\n",
        "X_batch_proc = pipeline.transform(batch_df)\n",
        "probs_batch  = model.predict(X_batch_proc)\n",
        "pred_nums    = np.argmax(probs_batch, axis=1)\n",
        "pred_labels  = label_encoder.inverse_transform(pred_nums)\n",
        "\n",
        "# 5) Attach predictions back to your DataFrame\n",
        "batch_df['predicted_price_range'] = pred_labels\n",
        "\n",
        "# 6) View results\n",
        "print(batch_df[['predicted_price_range']])"
      ]
    },
    {
      "cell_type": "code",
      "execution_count": 23,
      "metadata": {
        "colab": {
          "base_uri": "https://localhost:8080/"
        },
        "id": "uJ11ZxOjfx6X",
        "outputId": "fc7e0756-7166-49d9-aeed-f263fe8b2a60"
      },
      "outputs": [
        {
          "name": "stdout",
          "output_type": "stream",
          "text": [
            "Column 'college' unique values:\n",
            "['laboratory  tools' 'engineering' 'arts;architecture;engineering'\n",
            " 'architecture;engineering - arts' 'plant anatomy'\n",
            " 'faculty of bio technology' 'faculty of agriculture' 'arts'\n",
            " 'faculty of dentistry' 'chemical tools' 'faculty of veterinary medicine'\n",
            " 'architecture;engineering' 'animal dissection' 'faculty of nursing']\n",
            "----------------------------------------\n",
            "Column 'Sub Category' unique values:\n",
            "['cleaning supplies' 'Rulers' 'Art Supplies' 'liquid handling'\n",
            " 'chemical tools' 'Sculpture' 'microscopy supplies' 'Brushes' 'glassware'\n",
            " 'Templates' 'Colors' 'Oils' 'Canvas' 'Drawing Sketch' 'safety equipment'\n",
            " 'Pencils and Pens' 'cleaning tools' 'Art Boards and Bags'\n",
            " 'dissection tools' 'storage equipment' 'Color Pallets']\n",
            "----------------------------------------\n",
            "Column 'stock_range' unique values:\n",
            "['Medium' 'High' 'Low']\n",
            "----------------------------------------\n",
            "Column 'seasonality' unique values:\n",
            "['Winter' 'Autumn' 'Spring' 'Summer']\n",
            "----------------------------------------\n"
          ]
        }
      ],
      "source": [
        "for col in X.select_dtypes(include=['object']).columns:\n",
        "    print(f\"Column '{col}' unique values:\")\n",
        "    print(X[col].unique())\n",
        "    print('-' * 40)"
      ]
    }
  ],
  "metadata": {
    "colab": {
      "provenance": []
    },
    "kernelspec": {
      "display_name": "Python 3",
      "name": "python3"
    },
    "language_info": {
      "name": "python"
    }
  },
  "nbformat": 4,
  "nbformat_minor": 0
}
