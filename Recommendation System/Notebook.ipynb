{
  "cells": [
    {
      "cell_type": "code",
      "execution_count": 1,
      "metadata": {
        "id": "B-UaWb5Udetb"
      },
      "outputs": [],
      "source": [
        "import pandas as pd\n",
        "import numpy as np\n",
        "from sklearn.preprocessing import StandardScaler\n",
        "from sklearn.preprocessing import OneHotEncoder\n",
        "from sklearn.metrics.pairwise import cosine_similarity"
      ]
    },
    {
      "cell_type": "code",
      "execution_count": 2,
      "metadata": {
        "id": "D02qKRnkdrKq"
      },
      "outputs": [],
      "source": [
        "# Load your data\n",
        "df = pd.read_csv('data.csv')"
      ]
    },
    {
      "cell_type": "code",
      "execution_count": 3,
      "metadata": {
        "id": "Rkz5fYpReA3R"
      },
      "outputs": [],
      "source": [
        "# Select relevant features\n",
        "features = df[['college', 'Sub Category', 'rating', 'final_price']]"
      ]
    },
    {
      "cell_type": "code",
      "execution_count": 4,
      "metadata": {
        "id": "yg2SgyC-eCdo"
      },
      "outputs": [],
      "source": [
        "# One-hot encode categorical features\n",
        "encoder = OneHotEncoder()\n",
        "encoded = encoder.fit_transform(features[['college', 'Sub Category']]).toarray()"
      ]
    },
    {
      "cell_type": "code",
      "execution_count": 5,
      "metadata": {
        "id": "x_cBIoSGeFNw"
      },
      "outputs": [],
      "source": [
        "# Combine with numerical features\n",
        "numerical = features[['rating', 'final_price']].values\n",
        "X = pd.DataFrame(\n",
        "    data = np.hstack((encoded, numerical)),\n",
        "    index = df.index\n",
        ")"
      ]
    },
    {
      "cell_type": "code",
      "execution_count": 6,
      "metadata": {
        "id": "k7El712seJHJ"
      },
      "outputs": [],
      "source": [
        "# Normalize numerical features (optional but recommended)\n",
        "scaler = StandardScaler()\n",
        "X.iloc[:, -2:] = scaler.fit_transform(X.iloc[:, -2:])"
      ]
    },
    {
      "cell_type": "code",
      "execution_count": 7,
      "metadata": {
        "id": "j9eaSCTDeQCt"
      },
      "outputs": [],
      "source": [
        "# Compute similarity matrix\n",
        "similarity_matrix = cosine_similarity(X)\n",
        "\n",
        "def recommend(product_id, top_n=5):\n",
        "    # Get the actual index of the product in the DataFrame\n",
        "    if product_id not in df['id'].values:\n",
        "        return []\n",
        "    \n",
        "    product_index = df[df['id'] == product_id].index[0]\n",
        "\n",
        "    sim_scores = list(enumerate(similarity_matrix[product_index]))\n",
        "    sim_scores = sorted(sim_scores, key=lambda x: x[1], reverse=True)\n",
        "    sim_scores = sim_scores[1:top_n+1]  # exclude the product itself\n",
        "    recommended_indices = [i[0] for i in sim_scores]\n",
        "    return df.iloc[recommended_indices][['id', 'product', 'Sub Category', 'college', 'rating', 'final_price']].to_dict(orient='records')"
      ]
    },
    {
      "cell_type": "code",
      "execution_count": 8,
      "metadata": {
        "colab": {
          "base_uri": "https://localhost:8080/"
        },
        "id": "zoY8S5fheN4Y",
        "outputId": "0d7fcded-eb05-4d0e-ffe9-b9f003874cb7"
      },
      "outputs": [
        {
          "data": {
            "text/plain": [
              "[{'id': 958,\n",
              "  'product': 'Glasses',\n",
              "  'Sub Category': 'cleaning supplies',\n",
              "  'college': 'laboratory  tools',\n",
              "  'rating': 3.9,\n",
              "  'final_price': 3.815},\n",
              " {'id': 5517,\n",
              "  'product': 'Glasses',\n",
              "  'Sub Category': 'cleaning supplies',\n",
              "  'college': 'laboratory  tools',\n",
              "  'rating': 4.0,\n",
              "  'final_price': 3.815},\n",
              " {'id': 9122,\n",
              "  'product': 'Glasses',\n",
              "  'Sub Category': 'cleaning supplies',\n",
              "  'college': 'laboratory  tools',\n",
              "  'rating': 4.0,\n",
              "  'final_price': 3.815},\n",
              " {'id': 1282,\n",
              "  'product': 'towel',\n",
              "  'Sub Category': 'cleaning supplies',\n",
              "  'college': 'laboratory  tools',\n",
              "  'rating': 4.0,\n",
              "  'final_price': 19.2},\n",
              " {'id': 4608,\n",
              "  'product': 'towel',\n",
              "  'Sub Category': 'cleaning supplies',\n",
              "  'college': 'laboratory  tools',\n",
              "  'rating': 4.0,\n",
              "  'final_price': 19.2}]"
            ]
          },
          "execution_count": 8,
          "metadata": {},
          "output_type": "execute_result"
        }
      ],
      "source": [
        "recommend(0, top_n=5)"
      ]
    },
    {
      "cell_type": "code",
      "execution_count": 9,
      "metadata": {
        "colab": {
          "base_uri": "https://localhost:8080/"
        },
        "id": "MP3BzeuwjORw",
        "outputId": "4eed5edd-fea9-41a3-dd5b-ef94e16db0fc"
      },
      "outputs": [
        {
          "data": {
            "text/plain": [
              "['similarity.pkl']"
            ]
          },
          "execution_count": 9,
          "metadata": {},
          "output_type": "execute_result"
        }
      ],
      "source": [
        "import joblib\n",
        "\n",
        "joblib.dump(df, 'products.pkl')\n",
        "joblib.dump(similarity_matrix, 'similarity.pkl')"
      ]
    }
  ],
  "metadata": {
    "colab": {
      "name": "Welcome To Colab",
      "provenance": []
    },
    "kernelspec": {
      "display_name": "base",
      "language": "python",
      "name": "python3"
    },
    "language_info": {
      "codemirror_mode": {
        "name": "ipython",
        "version": 3
      },
      "file_extension": ".py",
      "mimetype": "text/x-python",
      "name": "python",
      "nbconvert_exporter": "python",
      "pygments_lexer": "ipython3",
      "version": "3.12.4"
    }
  },
  "nbformat": 4,
  "nbformat_minor": 0
}
